{
 "cells": [
  {
   "cell_type": "markdown",
   "metadata": {
    "colab_type": "text",
    "id": "D7tqLMoKF6uq"
   },
   "source": [
    "Deep Learning\n",
    "=============\n",
    "\n",
    "Assignment 5\n",
    "------------\n",
    "\n",
    "The goal of this assignment is to train a skip-gram model over [Text8](http://mattmahoney.net/dc/textdata) data."
   ]
  },
  {
   "cell_type": "code",
   "execution_count": 1,
   "metadata": {
    "cellView": "both",
    "colab": {
     "autoexec": {
      "startup": false,
      "wait_interval": 0
     }
    },
    "colab_type": "code",
    "collapsed": false,
    "id": "0K1ZyLn04QZf"
   },
   "outputs": [
    {
     "name": "stderr",
     "output_type": "stream",
     "text": [
      "/Users/kurtjc/anaconda/lib/python2.7/site-packages/matplotlib/font_manager.py:273: UserWarning: Matplotlib is building the font cache using fc-list. This may take a moment.\n",
      "  warnings.warn('Matplotlib is building the font cache using fc-list. This may take a moment.')\n"
     ]
    }
   ],
   "source": [
    "# These are all the modules we'll be using later. Make sure you can import them\n",
    "# before proceeding further.\n",
    "from __future__ import print_function\n",
    "import collections\n",
    "import math\n",
    "import numpy as np\n",
    "import os\n",
    "import random\n",
    "import tensorflow as tf\n",
    "import zipfile\n",
    "from matplotlib import pylab\n",
    "from six.moves import range\n",
    "from six.moves.urllib.request import urlretrieve\n",
    "from sklearn.manifold import TSNE"
   ]
  },
  {
   "cell_type": "markdown",
   "metadata": {
    "colab_type": "text",
    "id": "aCjPJE944bkV"
   },
   "source": [
    "Download the data from the source website if necessary."
   ]
  },
  {
   "cell_type": "code",
   "execution_count": 2,
   "metadata": {
    "cellView": "both",
    "colab": {
     "autoexec": {
      "startup": false,
      "wait_interval": 0
     },
     "output_extras": [
      {
       "item_id": 1
      }
     ]
    },
    "colab_type": "code",
    "collapsed": false,
    "executionInfo": {
     "elapsed": 14640,
     "status": "ok",
     "timestamp": 1445964482948,
     "user": {
      "color": "#1FA15D",
      "displayName": "Vincent Vanhoucke",
      "isAnonymous": false,
      "isMe": true,
      "permissionId": "05076109866853157986",
      "photoUrl": "//lh6.googleusercontent.com/-cCJa7dTDcgQ/AAAAAAAAAAI/AAAAAAAACgw/r2EZ_8oYer4/s50-c-k-no/photo.jpg",
      "sessionId": "2f1ffade4c9f20de",
      "userId": "102167687554210253930"
     },
     "user_tz": 420
    },
    "id": "RJ-o3UBUFtCw",
    "outputId": "c4ec222c-80b5-4298-e635-93ca9f79c3b7"
   },
   "outputs": [
    {
     "name": "stdout",
     "output_type": "stream",
     "text": [
      "Found and verified text8.zip\n"
     ]
    }
   ],
   "source": [
    "url = 'http://mattmahoney.net/dc/'\n",
    "\n",
    "def maybe_download(filename, expected_bytes):\n",
    "  \"\"\"Download a file if not present, and make sure it's the right size.\"\"\"\n",
    "  if not os.path.exists(filename):\n",
    "    filename, _ = urlretrieve(url + filename, filename)\n",
    "  statinfo = os.stat(filename)\n",
    "  if statinfo.st_size == expected_bytes:\n",
    "    print('Found and verified %s' % filename)\n",
    "  else:\n",
    "    print(statinfo.st_size)\n",
    "    raise Exception(\n",
    "      'Failed to verify ' + filename + '. Can you get to it with a browser?')\n",
    "  return filename\n",
    "\n",
    "filename = maybe_download('text8.zip', 31344016)"
   ]
  },
  {
   "cell_type": "markdown",
   "metadata": {
    "colab_type": "text",
    "id": "Zqz3XiqI4mZT"
   },
   "source": [
    "Read the data into a string."
   ]
  },
  {
   "cell_type": "code",
   "execution_count": 3,
   "metadata": {
    "cellView": "both",
    "colab": {
     "autoexec": {
      "startup": false,
      "wait_interval": 0
     },
     "output_extras": [
      {
       "item_id": 1
      }
     ]
    },
    "colab_type": "code",
    "collapsed": false,
    "executionInfo": {
     "elapsed": 28844,
     "status": "ok",
     "timestamp": 1445964497165,
     "user": {
      "color": "#1FA15D",
      "displayName": "Vincent Vanhoucke",
      "isAnonymous": false,
      "isMe": true,
      "permissionId": "05076109866853157986",
      "photoUrl": "//lh6.googleusercontent.com/-cCJa7dTDcgQ/AAAAAAAAAAI/AAAAAAAACgw/r2EZ_8oYer4/s50-c-k-no/photo.jpg",
      "sessionId": "2f1ffade4c9f20de",
      "userId": "102167687554210253930"
     },
     "user_tz": 420
    },
    "id": "Mvf09fjugFU_",
    "outputId": "e3a928b4-1645-4fe8-be17-fcf47de5716d"
   },
   "outputs": [
    {
     "name": "stdout",
     "output_type": "stream",
     "text": [
      "Data size 17005207\n"
     ]
    }
   ],
   "source": [
    "def read_data(filename):\n",
    "  f = zipfile.ZipFile(filename)\n",
    "  for name in f.namelist():\n",
    "    return tf.compat.as_str(f.read(name)).split()\n",
    "  f.close()\n",
    "  \n",
    "words = read_data(filename)\n",
    "print('Data size %d' % len(words))"
   ]
  },
  {
   "cell_type": "markdown",
   "metadata": {
    "colab_type": "text",
    "id": "Zdw6i4F8glpp"
   },
   "source": [
    "Build the dictionary and replace rare words with UNK token."
   ]
  },
  {
   "cell_type": "code",
   "execution_count": 4,
   "metadata": {
    "cellView": "both",
    "colab": {
     "autoexec": {
      "startup": false,
      "wait_interval": 0
     },
     "output_extras": [
      {
       "item_id": 1
      }
     ]
    },
    "colab_type": "code",
    "collapsed": false,
    "executionInfo": {
     "elapsed": 28849,
     "status": "ok",
     "timestamp": 1445964497178,
     "user": {
      "color": "#1FA15D",
      "displayName": "Vincent Vanhoucke",
      "isAnonymous": false,
      "isMe": true,
      "permissionId": "05076109866853157986",
      "photoUrl": "//lh6.googleusercontent.com/-cCJa7dTDcgQ/AAAAAAAAAAI/AAAAAAAACgw/r2EZ_8oYer4/s50-c-k-no/photo.jpg",
      "sessionId": "2f1ffade4c9f20de",
      "userId": "102167687554210253930"
     },
     "user_tz": 420
    },
    "id": "gAL1EECXeZsD",
    "outputId": "3fb4ecd1-df67-44b6-a2dc-2291730970b2"
   },
   "outputs": [
    {
     "name": "stdout",
     "output_type": "stream",
     "text": [
      "Most common words (+UNK) [['UNK', 418391], ('the', 1061396), ('of', 593677), ('and', 416629), ('one', 411764)]\n",
      "Sample data [5239, 3084, 12, 6, 195, 2, 3137, 46, 59, 156]\n"
     ]
    }
   ],
   "source": [
    "vocabulary_size = 50000\n",
    "\n",
    "def build_dataset(words):\n",
    "  count = [['UNK', -1]]\n",
    "  count.extend(collections.Counter(words).most_common(vocabulary_size - 1))\n",
    "  dictionary = dict()\n",
    "  for word, _ in count:\n",
    "    dictionary[word] = len(dictionary)\n",
    "  data = list()\n",
    "  unk_count = 0\n",
    "  for word in words:\n",
    "    if word in dictionary:\n",
    "      index = dictionary[word]\n",
    "    else:\n",
    "      index = 0  # dictionary['UNK']\n",
    "      unk_count = unk_count + 1\n",
    "    data.append(index)\n",
    "  count[0][1] = unk_count\n",
    "  reverse_dictionary = dict(zip(dictionary.values(), dictionary.keys())) \n",
    "  return data, count, dictionary, reverse_dictionary\n",
    "\n",
    "data, count, dictionary, reverse_dictionary = build_dataset(words)\n",
    "print('Most common words (+UNK)', count[:5])\n",
    "print('Sample data', data[:10])\n",
    "del words  # Hint to reduce memory."
   ]
  },
  {
   "cell_type": "markdown",
   "metadata": {
    "colab_type": "text",
    "id": "lFwoyygOmWsL"
   },
   "source": [
    "Function to generate a training batch for the skip-gram model."
   ]
  },
  {
   "cell_type": "code",
   "execution_count": 6,
   "metadata": {
    "cellView": "both",
    "colab": {
     "autoexec": {
      "startup": false,
      "wait_interval": 0
     },
     "output_extras": [
      {
       "item_id": 1
      }
     ]
    },
    "colab_type": "code",
    "collapsed": false,
    "executionInfo": {
     "elapsed": 113,
     "status": "ok",
     "timestamp": 1445964901989,
     "user": {
      "color": "#1FA15D",
      "displayName": "Vincent Vanhoucke",
      "isAnonymous": false,
      "isMe": true,
      "permissionId": "05076109866853157986",
      "photoUrl": "//lh6.googleusercontent.com/-cCJa7dTDcgQ/AAAAAAAAAAI/AAAAAAAACgw/r2EZ_8oYer4/s50-c-k-no/photo.jpg",
      "sessionId": "2f1ffade4c9f20de",
      "userId": "102167687554210253930"
     },
     "user_tz": 420
    },
    "id": "w9APjA-zmfjV",
    "outputId": "67cccb02-cdaf-4e47-d489-43bcc8d57bb8"
   },
   "outputs": [
    {
     "name": "stdout",
     "output_type": "stream",
     "text": [
      "data: ['anarchism', 'originated', 'as', 'a', 'term', 'of', 'abuse', 'first']\n",
      "\n",
      "with num_skips = 2 and skip_window = 1:\n",
      "    batch: ['originated', 'originated', 'as', 'as', 'a', 'a', 'term', 'term']\n",
      "    labels: ['as', 'anarchism', 'a', 'originated', 'as', 'term', 'of', 'a']\n",
      "\n",
      "with num_skips = 4 and skip_window = 2:\n",
      "    batch: ['as', 'as', 'as', 'as', 'a', 'a', 'a', 'a']\n",
      "    labels: ['a', 'originated', 'anarchism', 'term', 'term', 'originated', 'as', 'of']\n"
     ]
    }
   ],
   "source": [
    "data_index = 0\n",
    "\n",
    "def generate_batch(batch_size, num_skips, skip_window):\n",
    "  global data_index\n",
    "  assert batch_size % num_skips == 0\n",
    "  assert num_skips <= 2 * skip_window\n",
    "  batch = np.ndarray(shape=(batch_size), dtype=np.int32)\n",
    "  labels = np.ndarray(shape=(batch_size, 1), dtype=np.int32)\n",
    "  span = 2 * skip_window + 1 # [ skip_window target skip_window ]\n",
    "  buffer = collections.deque(maxlen=span)\n",
    "  for _ in range(span):\n",
    "    buffer.append(data[data_index])\n",
    "    data_index = (data_index + 1) % len(data)\n",
    "  for i in range(batch_size // num_skips):\n",
    "    target = skip_window  # target label at the center of the buffer\n",
    "    targets_to_avoid = [ skip_window ]\n",
    "    for j in range(num_skips):\n",
    "      while target in targets_to_avoid:\n",
    "        target = random.randint(0, span - 1)\n",
    "      targets_to_avoid.append(target)\n",
    "      batch[i * num_skips + j] = buffer[skip_window]\n",
    "      labels[i * num_skips + j, 0] = buffer[target]\n",
    "    buffer.append(data[data_index])\n",
    "    data_index = (data_index + 1) % len(data)\n",
    "  return batch, labels\n",
    "\n",
    "print('data:', [reverse_dictionary[di] for di in data[:8]])\n",
    "\n",
    "for num_skips, skip_window in [(2, 1), (4, 2)]:\n",
    "    data_index = 0\n",
    "    batch, labels = generate_batch(batch_size=8, num_skips=num_skips, skip_window=skip_window)\n",
    "    print('\\nwith num_skips = %d and skip_window = %d:' % (num_skips, skip_window))\n",
    "    print('    batch:', [reverse_dictionary[bi] for bi in batch])\n",
    "    print('    labels:', [reverse_dictionary[li] for li in labels.reshape(8)])"
   ]
  },
  {
   "cell_type": "markdown",
   "metadata": {
    "colab_type": "text",
    "id": "Ofd1MbBuwiva"
   },
   "source": [
    "Train a skip-gram model."
   ]
  },
  {
   "cell_type": "code",
   "execution_count": 7,
   "metadata": {
    "cellView": "both",
    "colab": {
     "autoexec": {
      "startup": false,
      "wait_interval": 0
     }
    },
    "colab_type": "code",
    "collapsed": true,
    "id": "8pQKsV4Vwlzy"
   },
   "outputs": [],
   "source": [
    "batch_size = 128\n",
    "embedding_size = 128 # Dimension of the embedding vector.\n",
    "skip_window = 1 # How many words to consider left and right.\n",
    "num_skips = 2 # How many times to reuse an input to generate a label.\n",
    "# We pick a random validation set to sample nearest neighbors. here we limit the\n",
    "# validation samples to the words that have a low numeric ID, which by\n",
    "# construction are also the most frequent. \n",
    "valid_size = 16 # Random set of words to evaluate similarity on.\n",
    "valid_window = 100 # Only pick dev samples in the head of the distribution.\n",
    "valid_examples = np.array(random.sample(range(valid_window), valid_size))\n",
    "num_sampled = 64 # Number of negative examples to sample.\n",
    "\n",
    "graph = tf.Graph()\n",
    "\n",
    "with graph.as_default(), tf.device('/cpu:0'):\n",
    "\n",
    "  # Input data.\n",
    "  train_dataset = tf.placeholder(tf.int32, shape=[batch_size])\n",
    "  train_labels = tf.placeholder(tf.int32, shape=[batch_size, 1])\n",
    "  valid_dataset = tf.constant(valid_examples, dtype=tf.int32)\n",
    "  \n",
    "  # Variables.\n",
    "  embeddings = tf.Variable(\n",
    "    tf.random_uniform([vocabulary_size, embedding_size], -1.0, 1.0))\n",
    "  softmax_weights = tf.Variable(\n",
    "    tf.truncated_normal([vocabulary_size, embedding_size],\n",
    "                         stddev=1.0 / math.sqrt(embedding_size)))\n",
    "  softmax_biases = tf.Variable(tf.zeros([vocabulary_size]))\n",
    "  \n",
    "  # Model.\n",
    "  # Look up embeddings for inputs.\n",
    "  embed = tf.nn.embedding_lookup(embeddings, train_dataset)\n",
    "  # Compute the softmax loss, using a sample of the negative labels each time.\n",
    "  loss = tf.reduce_mean(\n",
    "    tf.nn.sampled_softmax_loss(softmax_weights, softmax_biases, embed,\n",
    "                               train_labels, num_sampled, vocabulary_size))\n",
    "\n",
    "  # Optimizer.\n",
    "  optimizer = tf.train.AdagradOptimizer(1.0).minimize(loss)\n",
    "  \n",
    "  # Compute the similarity between minibatch examples and all embeddings.\n",
    "  # We use the cosine distance:\n",
    "  norm = tf.sqrt(tf.reduce_sum(tf.square(embeddings), 1, keep_dims=True))\n",
    "  normalized_embeddings = embeddings / norm\n",
    "  valid_embeddings = tf.nn.embedding_lookup(\n",
    "    normalized_embeddings, valid_dataset)\n",
    "  similarity = tf.matmul(valid_embeddings, tf.transpose(normalized_embeddings))"
   ]
  },
  {
   "cell_type": "code",
   "execution_count": 8,
   "metadata": {
    "cellView": "both",
    "colab": {
     "autoexec": {
      "startup": false,
      "wait_interval": 0
     },
     "output_extras": [
      {
       "item_id": 23
      },
      {
       "item_id": 48
      },
      {
       "item_id": 61
      }
     ]
    },
    "colab_type": "code",
    "collapsed": false,
    "executionInfo": {
     "elapsed": 436189,
     "status": "ok",
     "timestamp": 1445965429787,
     "user": {
      "color": "#1FA15D",
      "displayName": "Vincent Vanhoucke",
      "isAnonymous": false,
      "isMe": true,
      "permissionId": "05076109866853157986",
      "photoUrl": "//lh6.googleusercontent.com/-cCJa7dTDcgQ/AAAAAAAAAAI/AAAAAAAACgw/r2EZ_8oYer4/s50-c-k-no/photo.jpg",
      "sessionId": "2f1ffade4c9f20de",
      "userId": "102167687554210253930"
     },
     "user_tz": 420
    },
    "id": "1bQFGceBxrWW",
    "outputId": "5ebd6d9a-33c6-4bcd-bf6d-252b0b6055e4"
   },
   "outputs": [
    {
     "name": "stdout",
     "output_type": "stream",
     "text": [
      "Initialized\n",
      "Average loss at step 0: 8.139751\n",
      "Nearest to its: remixes, gerardus, cassandra, undertake, abdallah, arabica, seen, intercession,\n",
      "Nearest to or: lakota, freshwater, debussy, chester, honduran, shab, prefects, mud,\n",
      "Nearest to world: counterproductive, tillman, sophia, ppm, intermixed, amanda, risotto, beneficent,\n",
      "Nearest to see: placentia, messianic, shares, rice, lugh, dilmun, saterland, chaosium,\n",
      "Nearest to when: contained, disquiet, sloth, kernow, cafeteria, libretto, laborious, cheaper,\n",
      "Nearest to also: farc, docherty, lebeau, interfaces, trumpets, shambles, remastered, sensor,\n",
      "Nearest to this: bracelets, diagram, signer, marburg, meshech, leader, leased, loudest,\n",
      "Nearest to more: decedent, paphos, images, goon, mothersbaugh, biographical, trill, longstanding,\n",
      "Nearest to one: plectrum, deir, forecast, attachments, calvinist, punishing, rzeczypospolitej, nationalized,\n",
      "Nearest to d: signet, aliasing, bernadette, formulating, vacancy, bulgarians, subfields, abortive,\n",
      "Nearest to an: crushing, holger, storehouse, echolocation, tate, b, transposition, massoud,\n",
      "Nearest to not: bassoonist, ibn, hinckley, trusting, bowmen, hildesheim, repealing, autonomy,\n",
      "Nearest to so: manifest, suitor, rearguard, dhole, inflict, acs, imperfection, budge,\n",
      "Nearest to may: taxing, bw, minaret, ulein, left, hyginus, freeing, list,\n",
      "Nearest to it: pertains, overseeing, illegitimacy, unwarranted, trilled, problems, grigory, bembo,\n",
      "Nearest to all: iupac, engl, huntingford, ah, suppressed, eagle, resembled, producer,\n",
      "Average loss at step 2000: 4.350335\n",
      "Average loss at step 4000: 3.859748\n",
      "Average loss at step 6000: 3.787195\n",
      "Average loss at step 8000: 3.687541\n",
      "Average loss at step 10000: 3.615333\n",
      "Nearest to its: their, his, the, gerardus, remixes, burial, control, mortis,\n",
      "Nearest to or: and, discovering, foresaw, conjugation, legalised, brodsky, but, benito,\n",
      "Nearest to world: amanda, gladys, dennett, beneficent, counterproductive, mutagens, ppm, lictors,\n",
      "Nearest to see: dilmun, but, saterland, chaosium, diffie, czar, jury, speculative,\n",
      "Nearest to when: cafeteria, stitch, contained, alarc, trypanosomiasis, estampie, bia, remaining,\n",
      "Nearest to also: often, it, which, habilis, dail, sensor, that, not,\n",
      "Nearest to this: the, which, it, a, that, bracelets, denigrating, radicals,\n",
      "Nearest to more: less, planck, aryans, carmelites, goon, hay, cynical, grandmaster,\n",
      "Nearest to one: two, six, eight, four, three, seven, five, billion,\n",
      "Nearest to d: b, signet, cle, mired, overworld, siemens, and, bernadette,\n",
      "Nearest to an: the, storehouse, transcends, tropes, this, dakini, danforth, transposition,\n",
      "Nearest to not: it, bassoonist, often, to, they, without, still, also,\n",
      "Nearest to so: manifest, sill, turnovers, persona, coincidentally, rearguard, kune, heard,\n",
      "Nearest to may: can, would, could, left, combi, eh, hyginus, will,\n",
      "Nearest to it: he, this, there, not, which, often, she, also,\n",
      "Nearest to all: suppressed, most, many, producer, pierluigi, cbs, jehoshaphat, vangelis,\n",
      "Average loss at step 12000: 3.609759\n",
      "Average loss at step 14000: 3.570037\n",
      "Average loss at step 16000: 3.404777\n",
      "Average loss at step 18000: 3.462224\n",
      "Average loss at step 20000: 3.538545\n",
      "Nearest to its: their, his, the, gerardus, control, repulse, her, converged,\n",
      "Nearest to or: and, than, but, pedagogue, finals, familial, for, promoters,\n",
      "Nearest to world: amanda, beneficent, revolts, mclean, mutagens, gladys, dakar, lictors,\n",
      "Nearest to see: diffie, saterland, dilmun, czar, jury, chaosium, but, pilot,\n",
      "Nearest to when: where, estampie, if, cafeteria, that, remaining, contained, salman,\n",
      "Nearest to also: often, which, not, generally, who, now, it, never,\n",
      "Nearest to this: it, which, the, that, emirs, teleportation, what, harriet,\n",
      "Nearest to more: less, most, very, aryans, carmelites, rather, hay, not,\n",
      "Nearest to one: two, seven, three, five, six, eight, four, nine,\n",
      "Nearest to d: b, french, overworld, rogers, beatle, siemens, piro, signet,\n",
      "Nearest to an: tropes, storehouse, the, transcends, dakini, levine, woods, holger,\n",
      "Nearest to not: it, often, also, they, without, bassoonist, adhering, to,\n",
      "Nearest to so: ethelred, turnovers, sill, persona, invitation, caricature, kune, rider,\n",
      "Nearest to may: can, would, could, will, should, might, cannot, must,\n",
      "Nearest to it: he, this, there, she, they, not, which, we,\n",
      "Nearest to all: many, these, some, jpl, suppressed, most, literals, bat,\n",
      "Average loss at step 22000: 3.502922\n",
      "Average loss at step 24000: 3.494229\n",
      "Average loss at step 26000: 3.480535\n",
      "Average loss at step 28000: 3.479106\n",
      "Average loss at step 30000: 3.502160\n",
      "Nearest to its: their, his, the, our, gerardus, her, your, unsteady,\n",
      "Nearest to or: and, functionally, doubling, but, europ, optimized, maasai, socioeconomic,\n",
      "Nearest to world: amanda, beneficent, mutagens, mclean, lictors, duchy, revolts, today,\n",
      "Nearest to see: diffie, saterland, czar, chaosium, dilmun, saturated, but, yoakum,\n",
      "Nearest to when: if, where, while, after, though, before, fils, estampie,\n",
      "Nearest to also: often, now, which, generally, never, who, still, exemplify,\n",
      "Nearest to this: which, it, what, that, some, the, teleportation, pleasurable,\n",
      "Nearest to more: less, very, most, aryans, rather, larger, carmelites, longer,\n",
      "Nearest to one: two, four, seven, three, five, eight, six, nine,\n",
      "Nearest to d: b, del, beatle, gerard, piro, rogers, javelin, summoning,\n",
      "Nearest to an: transcends, tropes, storehouse, curved, abstention, variational, gianni, danforth,\n",
      "Nearest to not: without, they, computable, bassoonist, it, still, often, also,\n",
      "Nearest to so: ethelred, suggested, turnovers, leutze, unemployment, nitrate, sonic, reunified,\n",
      "Nearest to may: can, would, could, will, might, should, must, cannot,\n",
      "Nearest to it: he, this, there, she, they, not, also, stopover,\n",
      "Nearest to all: some, these, many, literals, bells, several, various, every,\n",
      "Average loss at step 32000: 3.504001\n",
      "Average loss at step 34000: 3.494150\n",
      "Average loss at step 36000: 3.451019\n",
      "Average loss at step 38000: 3.295694\n",
      "Average loss at step 40000: 3.427460\n",
      "Nearest to its: their, his, her, gerardus, unsteady, your, matlab, the,\n",
      "Nearest to or: and, than, hindenburg, kaufman, a, adulterated, familial, goalkeepers,\n",
      "Nearest to world: mclean, amanda, duchy, mutagens, country, tripolitania, revolts, fosse,\n",
      "Nearest to see: saterland, known, dilmun, intertwined, czar, autobiographical, diffie, but,\n",
      "Nearest to when: if, where, while, before, fils, though, after, estampie,\n",
      "Nearest to also: often, now, generally, which, exemplify, never, who, still,\n",
      "Nearest to this: which, it, that, the, what, emirs, he, whistler,\n",
      "Nearest to more: less, very, most, longer, larger, rather, aryans, dalmatia,\n",
      "Nearest to one: seven, two, four, eight, six, five, three, nine,\n",
      "Nearest to d: b, del, gerard, rik, durst, bernadette, portillo, holmium,\n",
      "Nearest to an: the, cardiac, transcends, danforth, dakini, variational, transposition, storehouse,\n",
      "Nearest to not: they, never, often, without, usually, really, also, still,\n",
      "Nearest to so: ethelred, dying, consulates, leutze, suggested, turnovers, enslavement, unemployment,\n",
      "Nearest to may: can, would, could, will, might, should, must, cannot,\n",
      "Nearest to it: he, she, there, this, they, which, asiatic, generally,\n",
      "Nearest to all: many, these, every, several, various, anatomy, womb, deposed,\n",
      "Average loss at step 42000: 3.434766\n",
      "Average loss at step 44000: 3.452997\n",
      "Average loss at step 46000: 3.450662\n",
      "Average loss at step 48000: 3.357054\n",
      "Average loss at step 50000: 3.380325\n",
      "Nearest to its: their, his, her, the, your, gerardus, matlab, our,\n",
      "Nearest to or: and, than, gust, europ, reissues, familial, priori, adulterated,\n",
      "Nearest to world: tripolitania, grote, mclean, duchy, amanda, tillman, puts, independant,\n",
      "Nearest to see: czar, diffie, autobiographical, chaosium, saturated, stabilised, include, references,\n",
      "Nearest to when: if, while, where, before, after, though, but, during,\n",
      "Nearest to also: now, often, generally, which, exemplify, sometimes, footprints, still,\n",
      "Nearest to this: which, it, the, he, newcastle, that, some, what,\n",
      "Nearest to more: less, most, very, longer, larger, rather, aryans, mckee,\n",
      "Nearest to one: two, six, four, eight, seven, three, five, nine,\n",
      "Nearest to d: b, del, bernadette, rik, grub, shay, redistribute, rogers,\n",
      "Nearest to an: transcends, the, monophysite, cardiac, abstention, levine, roulette, encouraging,\n",
      "Nearest to not: never, without, they, usually, still, computable, who, now,\n",
      "Nearest to so: ethelred, taxi, sonic, awakened, suggested, hemophilia, seleucid, dundas,\n",
      "Nearest to may: can, would, could, will, should, might, must, cannot,\n",
      "Nearest to it: he, she, there, this, they, stopover, still, which,\n",
      "Nearest to all: every, these, each, womb, deposed, many, both, portion,\n",
      "Average loss at step 52000: 3.434914\n",
      "Average loss at step 54000: 3.425095\n",
      "Average loss at step 56000: 3.441848\n",
      "Average loss at step 58000: 3.396392\n",
      "Average loss at step 60000: 3.391411\n",
      "Nearest to its: their, his, the, her, your, our, whose, gerardus,\n",
      "Nearest to or: and, than, racine, approximations, but, bisected, caving, like,\n",
      "Nearest to world: puts, grote, tripolitania, transcontinental, mclean, duchy, country, amanda,\n",
      "Nearest to see: include, list, but, diffie, references, can, melanoleuca, stabilised,\n",
      "Nearest to when: if, while, before, where, after, though, although, because,\n",
      "Nearest to also: now, often, still, generally, sometimes, there, never, usually,\n",
      "Nearest to this: which, it, there, that, the, what, some, however,\n",
      "Nearest to more: less, very, longer, rather, most, larger, smaller, dalmatia,\n",
      "Nearest to one: two, eight, seven, six, four, three, five, nine,\n",
      "Nearest to d: b, del, rik, l, bernadette, thomas, bella, h,\n",
      "Nearest to an: transcends, gbu, wands, tropes, transposition, encouraging, cardiac, queensberry,\n",
      "Nearest to not: we, never, they, usually, now, still, without, peake,\n",
      "Nearest to so: suggested, something, ethelred, patanjali, senna, confines, hemophilia, taxi,\n",
      "Nearest to may: can, would, will, could, might, should, must, cannot,\n",
      "Nearest to it: he, she, there, this, what, they, still, also,\n",
      "Nearest to all: every, some, various, any, these, many, womb, each,\n",
      "Average loss at step 62000: 3.233953\n",
      "Average loss at step 64000: 3.254241\n",
      "Average loss at step 66000: 3.405369\n",
      "Average loss at step 68000: 3.397224\n",
      "Average loss at step 70000: 3.357578\n",
      "Nearest to its: their, his, the, her, your, our, amundsen, kankan,\n",
      "Nearest to or: and, than, any, sophisticated, caving, racine, while, chording,\n",
      "Nearest to world: tripolitania, transcontinental, mclean, grote, country, locator, puts, newspapers,\n",
      "Nearest to see: and, fergana, include, list, but, can, diffie, melanoleuca,\n",
      "Nearest to when: if, where, while, though, before, after, because, although,\n",
      "Nearest to also: often, now, generally, still, which, never, sometimes, usually,\n",
      "Nearest to this: which, it, that, the, some, there, itself, what,\n",
      "Nearest to more: less, most, very, rather, longer, larger, highly, other,\n",
      "Nearest to one: seven, six, two, four, five, eight, three, nine,\n",
      "Nearest to d: b, del, bella, l, h, bernadette, grub, rik,\n",
      "Nearest to an: transcends, gbu, gianni, queensberry, the, variational, cardiac, wands,\n",
      "Nearest to not: never, now, usually, still, without, generally, we, typically,\n",
      "Nearest to so: suggested, thus, uplift, alumni, patanjali, too, if, senna,\n",
      "Nearest to may: can, would, will, could, must, might, should, cannot,\n",
      "Nearest to it: he, she, there, this, they, still, we, falla,\n",
      "Nearest to all: some, every, various, many, any, portion, womb, both,\n",
      "Average loss at step 72000: 3.372692\n",
      "Average loss at step 74000: 3.346257\n",
      "Average loss at step 76000: 3.308886\n",
      "Average loss at step 78000: 3.349119\n",
      "Average loss at step 80000: 3.380293\n",
      "Nearest to its: their, his, her, your, our, the, saber, unsteady,\n",
      "Nearest to or: and, than, while, canyon, lut, but, demigod, pleas,\n",
      "Nearest to world: transcontinental, tripolitania, u, grote, mutagens, coolant, country, afloat,\n",
      "Nearest to see: but, include, stabilised, references, melanoleuca, diffie, animosity, motivates,\n",
      "Nearest to when: before, if, after, while, though, where, during, saw,\n",
      "Nearest to also: often, still, now, generally, which, sometimes, never, usually,\n",
      "Nearest to this: which, it, the, disbanded, what, hydrofoil, some, there,\n",
      "Nearest to more: less, larger, very, most, rather, longer, extremely, smaller,\n",
      "Nearest to one: seven, six, two, three, four, eight, five, clooney,\n",
      "Nearest to d: b, del, synthetic, stanzas, l, bernadette, g, bella,\n",
      "Nearest to an: transcends, cardiac, curved, gbu, gianni, tropes, variational, chartered,\n",
      "Nearest to not: still, never, usually, really, they, almost, we, generally,\n",
      "Nearest to so: suggested, if, uplift, too, however, before, thus, patanjali,\n",
      "Nearest to may: can, could, would, will, must, might, should, cannot,\n",
      "Nearest to it: he, she, there, this, they, we, itself, not,\n",
      "Nearest to all: every, various, some, many, both, underweight, any, several,\n",
      "Average loss at step 82000: 3.406148\n",
      "Average loss at step 84000: 3.413000\n",
      "Average loss at step 86000: 3.390418\n",
      "Average loss at step 88000: 3.352115\n",
      "Average loss at step 90000: 3.366755\n",
      "Nearest to its: their, her, his, your, our, the, gerardus, kankan,\n",
      "Nearest to or: and, ponens, maasai, while, chording, than, invariably, but,\n",
      "Nearest to world: vicksburg, transcontinental, belief, tripolitania, giuliano, afloat, liner, grote,\n",
      "Nearest to see: references, ltte, but, credibility, external, outpouring, stabilised, catarina,\n",
      "Nearest to when: if, after, before, while, where, though, during, saw,\n",
      "Nearest to also: often, still, now, generally, sometimes, which, never, occasionally,\n",
      "Nearest to this: which, it, the, some, disbanded, another, whistler, mediated,\n",
      "Nearest to more: less, larger, very, most, longer, rather, extremely, highly,\n",
      "Nearest to one: seven, two, four, eight, six, five, three, nine,\n",
      "Nearest to d: b, bernadette, plunging, synthetic, grub, summoning, del, ballerina,\n",
      "Nearest to an: variational, gianni, curved, cardiac, gtpases, gbu, roulette, transcends,\n",
      "Nearest to not: never, now, still, really, they, nor, generally, there,\n",
      "Nearest to so: suggested, thus, too, scarlet, uplift, if, reunified, patanjali,\n",
      "Nearest to may: can, could, would, will, must, might, should, cannot,\n",
      "Nearest to it: she, he, there, they, this, itself, actually, we,\n",
      "Nearest to all: every, many, some, several, underweight, womb, various, both,\n",
      "Average loss at step 92000: 3.395609\n",
      "Average loss at step 94000: 3.249078\n",
      "Average loss at step 96000: 3.360924\n",
      "Average loss at step 98000: 3.238176\n",
      "Average loss at step 100000: 3.357138\n",
      "Nearest to its: their, his, her, our, your, the, gerardus, unsteady,\n",
      "Nearest to or: and, than, folklorist, undergraduates, mcgee, dreyfus, meier, while,\n",
      "Nearest to world: transcontinental, tripolitania, vicksburg, afloat, grote, giuliano, post, mutagens,\n",
      "Nearest to see: references, list, catarina, measles, external, intertwined, stabilised, links,\n",
      "Nearest to when: if, while, before, where, after, although, though, because,\n",
      "Nearest to also: still, now, sometimes, often, generally, never, actually, usually,\n",
      "Nearest to this: which, it, another, disbanded, expandable, nets, hydrofoil, what,\n",
      "Nearest to more: less, larger, very, most, greater, rather, longer, highly,\n",
      "Nearest to one: two, seven, four, five, eight, six, nine, th,\n",
      "Nearest to d: b, c, h, grub, quarterbacks, kilojoules, ec, k,\n",
      "Nearest to an: variational, gbu, transcends, gianni, hammers, another, cardiac, infamy,\n",
      "Nearest to not: never, now, really, almost, they, nor, nehru, generally,\n",
      "Nearest to so: thus, too, uplift, suggested, scarlet, sometimes, anything, patanjali,\n",
      "Nearest to may: can, could, would, should, might, will, must, cannot,\n",
      "Nearest to it: he, she, this, there, they, what, just, wardens,\n",
      "Nearest to all: every, many, several, some, various, underweight, womb, these,\n"
     ]
    }
   ],
   "source": [
    "num_steps = 100001\n",
    "\n",
    "with tf.Session(graph=graph) as session:\n",
    "  tf.initialize_all_variables().run()\n",
    "  print('Initialized')\n",
    "  average_loss = 0\n",
    "  for step in range(num_steps):\n",
    "    batch_data, batch_labels = generate_batch(\n",
    "      batch_size, num_skips, skip_window)\n",
    "    feed_dict = {train_dataset : batch_data, train_labels : batch_labels}\n",
    "    _, l = session.run([optimizer, loss], feed_dict=feed_dict)\n",
    "    average_loss += l\n",
    "    if step % 2000 == 0:\n",
    "      if step > 0:\n",
    "        average_loss = average_loss / 2000\n",
    "      # The average loss is an estimate of the loss over the last 2000 batches.\n",
    "      print('Average loss at step %d: %f' % (step, average_loss))\n",
    "      average_loss = 0\n",
    "    # note that this is expensive (~20% slowdown if computed every 500 steps)\n",
    "    if step % 10000 == 0:\n",
    "      sim = similarity.eval()\n",
    "      for i in xrange(valid_size):\n",
    "        valid_word = reverse_dictionary[valid_examples[i]]\n",
    "        top_k = 8 # number of nearest neighbors\n",
    "        nearest = (-sim[i, :]).argsort()[1:top_k+1]\n",
    "        log = 'Nearest to %s:' % valid_word\n",
    "        for k in xrange(top_k):\n",
    "          close_word = reverse_dictionary[nearest[k]]\n",
    "          log = '%s %s,' % (log, close_word)\n",
    "        print(log)\n",
    "  final_embeddings = normalized_embeddings.eval()"
   ]
  },
  {
   "cell_type": "code",
   "execution_count": 9,
   "metadata": {
    "cellView": "both",
    "colab": {
     "autoexec": {
      "startup": false,
      "wait_interval": 0
     }
    },
    "colab_type": "code",
    "collapsed": true,
    "id": "jjJXYA_XzV79"
   },
   "outputs": [],
   "source": [
    "num_points = 400\n",
    "\n",
    "tsne = TSNE(perplexity=30, n_components=2, init='pca', n_iter=5000)\n",
    "two_d_embeddings = tsne.fit_transform(final_embeddings[1:num_points+1, :])"
   ]
  },
  {
   "cell_type": "code",
   "execution_count": 10,
   "metadata": {
    "cellView": "both",
    "colab": {
     "autoexec": {
      "startup": false,
      "wait_interval": 0
     },
     "output_extras": [
      {
       "item_id": 1
      }
     ]
    },
    "colab_type": "code",
    "collapsed": false,
    "executionInfo": {
     "elapsed": 4763,
     "status": "ok",
     "timestamp": 1445965465525,
     "user": {
      "color": "#1FA15D",
      "displayName": "Vincent Vanhoucke",
      "isAnonymous": false,
      "isMe": true,
      "permissionId": "05076109866853157986",
      "photoUrl": "//lh6.googleusercontent.com/-cCJa7dTDcgQ/AAAAAAAAAAI/AAAAAAAACgw/r2EZ_8oYer4/s50-c-k-no/photo.jpg",
      "sessionId": "2f1ffade4c9f20de",
      "userId": "102167687554210253930"
     },
     "user_tz": 420
    },
    "id": "o_e0D_UezcDe",
    "outputId": "df22e4a5-e8ec-4e5e-d384-c6cf37c68c34"
   },
   "outputs": [],
   "source": [
    "def plot(embeddings, labels):\n",
    "  assert embeddings.shape[0] >= len(labels), 'More labels than embeddings'\n",
    "  pylab.figure(figsize=(15,15))  # in inches\n",
    "  for i, label in enumerate(labels):\n",
    "    x, y = embeddings[i,:]\n",
    "    pylab.scatter(x, y)\n",
    "    pylab.annotate(label, xy=(x, y), xytext=(5, 2), textcoords='offset points',\n",
    "                   ha='right', va='bottom')\n",
    "  pylab.show()\n",
    "\n",
    "words = [reverse_dictionary[i] for i in range(1, num_points+1)]\n",
    "plot(two_d_embeddings, words)"
   ]
  },
  {
   "cell_type": "markdown",
   "metadata": {
    "colab_type": "text",
    "id": "QB5EFrBnpNnc"
   },
   "source": [
    "---\n",
    "\n",
    "Problem\n",
    "-------\n",
    "\n",
    "An alternative to Word2Vec is called [CBOW](http://arxiv.org/abs/1301.3781) (Continuous Bag of Words). In the CBOW model, instead of predicting a context word from a word vector, you predict a word from the sum of all the word vectors in its context. Implement and evaluate a CBOW model trained on the text8 dataset.\n",
    "\n",
    "---"
   ]
  },
  {
   "cell_type": "markdown",
   "metadata": {},
   "source": [
    "## *Answer -- CBOW*"
   ]
  },
  {
   "cell_type": "markdown",
   "metadata": {},
   "source": [
    "function to generate a training batch for CBOW"
   ]
  },
  {
   "cell_type": "code",
   "execution_count": 16,
   "metadata": {
    "collapsed": false
   },
   "outputs": [
    {
     "name": "stdout",
     "output_type": "stream",
     "text": [
      "data: ['anarchism', 'originated', 'as', 'a', 'term', 'of', 'abuse', 'first']\n",
      "\n",
      "with num_skips = 2 and skip_window = 1:\n",
      "    data: ['as', 'anarchism']\n",
      "    label: ['originated']\n",
      "    data: ['a', 'originated']\n",
      "    label: ['as']\n",
      "    data: ['term', 'as']\n",
      "    label: ['a']\n",
      "    data: ['of', 'a']\n",
      "    label: ['term']\n",
      "    data: ['term', 'abuse']\n",
      "    label: ['of']\n",
      "    data: ['first', 'of']\n",
      "    label: ['abuse']\n",
      "    data: ['used', 'abuse']\n",
      "    label: ['first']\n",
      "    data: ['first', 'against']\n",
      "    label: ['used']\n",
      "\n",
      "with num_skips = 4 and skip_window = 2:\n",
      "    data: ['anarchism', 'term', 'originated', 'a']\n",
      "    label: ['as']\n",
      "    data: ['term', 'of', 'originated', 'as']\n",
      "    label: ['a']\n",
      "    data: ['as', 'abuse', 'a', 'of']\n",
      "    label: ['term']\n",
      "    data: ['term', 'a', 'first', 'abuse']\n",
      "    label: ['of']\n",
      "    data: ['first', 'of', 'term', 'used']\n",
      "    label: ['abuse']\n",
      "    data: ['abuse', 'used', 'of', 'against']\n",
      "    label: ['first']\n",
      "    data: ['against', 'early', 'abuse', 'first']\n",
      "    label: ['used']\n",
      "    data: ['working', 'early', 'first', 'used']\n",
      "    label: ['against']\n"
     ]
    }
   ],
   "source": [
    "data_index = 0\n",
    "\n",
    "def generate_batch(batch_size, num_skips, skip_window):\n",
    "    global data_index\n",
    "    assert batch_size % num_skips == 0\n",
    "    assert num_skips <= 2 * skip_window\n",
    "    batch = np.ndarray(shape=(batch_size, num_skips), dtype=np.int32)\n",
    "    labels = np.ndarray(shape=(batch_size, 1), dtype=np.int32)\n",
    "    span = 2 * skip_window + 1 # [ skip_window target skip_window ]\n",
    "    buffer = collections.deque(maxlen=span)\n",
    "    for _ in range(span):\n",
    "        buffer.append(data[data_index])\n",
    "        data_index = (data_index + 1) % len(data)\n",
    "    for i in range(batch_size):\n",
    "        target = skip_window  # target label at the center of the buffer\n",
    "        targets_to_avoid = [ skip_window ]\n",
    "        labels[i, 0] = buffer[skip_window]\n",
    "        for j in range(num_skips):\n",
    "            while target in targets_to_avoid:\n",
    "                target = random.randint(0, span - 1)\n",
    "            targets_to_avoid.append(target)\n",
    "            batch[i, j] = buffer[target]\n",
    "        buffer.append(data[data_index])\n",
    "        data_index = (data_index + 1) % len(data)\n",
    "    return batch, labels\n",
    "\n",
    "print('data:', [reverse_dictionary[di] for di in data[:8]])\n",
    "\n",
    "for num_skips, skip_window in [(2, 1), (4, 2)]:\n",
    "    data_index = 0\n",
    "    batch, labels = generate_batch(batch_size=8, num_skips=num_skips, skip_window=skip_window)\n",
    "    print('\\nwith num_skips = %d and skip_window = %d:' % (num_skips, skip_window))\n",
    "    for i in range(8):\n",
    "        print('    data:', [reverse_dictionary[bi] for bi in batch[i,:]])\n",
    "        print('    label:', [reverse_dictionary[labels[i, 0]]])"
   ]
  },
  {
   "cell_type": "markdown",
   "metadata": {},
   "source": [
    "Train a CBOW model"
   ]
  },
  {
   "cell_type": "code",
   "execution_count": 17,
   "metadata": {
    "collapsed": true
   },
   "outputs": [],
   "source": [
    "batch_size = 128\n",
    "embedding_size = 128 # Dimension of the embedding vector.\n",
    "skip_window = 1 # How many words to consider left and right.\n",
    "num_skips = 2 # How many times to reuse an input to generate a label.\n",
    "# We pick a random validation set to sample nearest neighbors. here we limit the\n",
    "# validation samples to the words that have a low numeric ID, which by\n",
    "# construction are also the most frequent. \n",
    "valid_size = 16 # Random set of words to evaluate similarity on.\n",
    "valid_window = 100 # Only pick dev samples in the head of the distribution.\n",
    "valid_examples = np.array(random.sample(range(valid_window), valid_size))\n",
    "num_sampled = 64 # Number of negative examples to sample.\n",
    "\n",
    "graph = tf.Graph()\n",
    "\n",
    "with graph.as_default(), tf.device('/cpu:0'):\n",
    "    \n",
    "    # Input data.\n",
    "    train_dataset = tf.placeholder(tf.int32, shape=[batch_size, num_skips])\n",
    "    train_labels = tf.placeholder(tf.int32, shape=[batch_size, 1])\n",
    "    valid_dataset = tf.constant(valid_examples, dtype=tf.int32)\n",
    "  \n",
    "    # Variables.\n",
    "    embeddings = tf.Variable(\n",
    "        tf.random_uniform([vocabulary_size, embedding_size], -1.0, 1.0))\n",
    "    softmax_weights = tf.Variable(\n",
    "        tf.truncated_normal([vocabulary_size, embedding_size],\n",
    "                            stddev=1.0 / math.sqrt(embedding_size)))\n",
    "    softmax_biases = tf.Variable(tf.zeros([vocabulary_size]))\n",
    "  \n",
    "    # Model.\n",
    "    # Look up embeddings for inputs.\n",
    "    embed = tf.nn.embedding_lookup(embeddings, train_dataset[:, 0])\n",
    "    for i in range(num_skips-1):\n",
    "        embed_sub = tf.nn.embedding_lookup(embeddings, train_dataset[:, i+1])\n",
    "        embed = tf.add(embed, embed_sub)\n",
    "    # Compute the softmax loss, using a sample of the negative labels each time.\n",
    "    loss = tf.reduce_mean(\n",
    "        tf.nn.sampled_softmax_loss(softmax_weights, softmax_biases, embed,\n",
    "                                   train_labels, num_sampled, vocabulary_size))\n",
    "\n",
    "    # Optimizer.\n",
    "    optimizer = tf.train.AdagradOptimizer(1.0).minimize(loss)\n",
    "  \n",
    "    # Compute the similarity between minibatch examples and all embeddings.\n",
    "    # We use the cosine distance:\n",
    "    norm = tf.sqrt(tf.reduce_sum(tf.square(embeddings), 1, keep_dims=True))\n",
    "    normalized_embeddings = embeddings / norm\n",
    "    valid_embeddings = tf.nn.embedding_lookup(\n",
    "        normalized_embeddings, valid_dataset)\n",
    "    similarity = tf.matmul(valid_embeddings, tf.transpose(normalized_embeddings))"
   ]
  },
  {
   "cell_type": "code",
   "execution_count": 18,
   "metadata": {
    "collapsed": false
   },
   "outputs": [
    {
     "name": "stdout",
     "output_type": "stream",
     "text": [
      "Initialized\n",
      "Average loss at step 0: 7.907629\n",
      "Nearest to after: sabine, victorians, guitar, ayman, painless, tierney, gelatin, commemorate,\n",
      "Nearest to state: pusc, labarum, enclosures, narrow, passos, advertised, agora, backronym,\n",
      "Nearest to five: brighton, yogi, nodes, antennae, preventive, sousa, rocking, pickling,\n",
      "Nearest to would: saimei, espresso, cherries, gernsback, doug, quota, curl, freer,\n",
      "Nearest to has: overhauled, consideration, tp, tonality, bonnie, ringo, vats, mole,\n",
      "Nearest to seven: cosby, belmont, murphy, paigc, return, ullmann, remit, buchner,\n",
      "Nearest to united: shusui, sampras, kamen, passions, dependent, cleese, dms, mantua,\n",
      "Nearest to by: genetical, anchovies, prime, arlen, navel, railhead, viktor, outlaws,\n",
      "Nearest to had: birdman, contarini, bohemian, ofcom, tellers, materiality, xilinx, fulfilled,\n",
      "Nearest to use: hylas, patriarchal, khalq, renovate, reine, brigham, freud, plausibility,\n",
      "Nearest to s: phospholipid, bellini, celsius, cadre, rightful, nootka, dorm, immediacy,\n",
      "Nearest to war: minimalist, codd, infielder, rocket, ailing, retires, ccf, congregate,\n",
      "Nearest to that: robust, middletown, diamagnetic, spanish, bauer, partitive, prima, trajectories,\n",
      "Nearest to as: rag, tube, barn, fortunes, embracing, basset, polled, harkonnen,\n",
      "Nearest to new: romano, hyperion, gravitational, clothed, taxation, decides, ltte, cowpox,\n",
      "Nearest to he: functioned, captured, pickling, granada, pore, dunedin, rumford, reprogramming,\n",
      "Average loss at step 2000: 4.099365\n",
      "Average loss at step 4000: 3.557989\n",
      "Average loss at step 6000: 3.387030\n",
      "Average loss at step 8000: 3.250144\n",
      "Average loss at step 10000: 3.177729\n",
      "Nearest to after: before, sabine, investigator, frobisher, in, trickery, at, wreckage,\n",
      "Nearest to state: dielectric, enclosures, subordinated, advertised, absurdities, warming, ann, systematized,\n",
      "Nearest to five: six, eight, four, zero, three, seven, nine, two,\n",
      "Nearest to would: can, could, should, will, may, must, to, might,\n",
      "Nearest to has: had, have, is, was, deepest, groening, subordinated, xl,\n",
      "Nearest to seven: eight, nine, six, four, five, three, zero, two,\n",
      "Nearest to united: shusui, kamen, preservative, actus, inefficient, cyclical, flow, dms,\n",
      "Nearest to by: through, against, for, with, be, estas, lcc, wait,\n",
      "Nearest to had: has, have, were, was, contarini, commenting, parable, mlp,\n",
      "Nearest to use: plausibility, digs, information, inflicted, salut, hand, seeker, allende,\n",
      "Nearest to s: mergers, kidnappings, gurevich, spurs, his, fabio, tesco, taranto,\n",
      "Nearest to war: codd, grunge, leone, ailing, incline, minimalist, love, trial,\n",
      "Nearest to that: which, ebola, this, destroyed, utamaro, significance, immorality, but,\n",
      "Nearest to as: sebastian, rajput, peacekeeping, carnation, disadvantageous, for, cinco, akh,\n",
      "Nearest to new: romano, kriegsmarine, plantations, lindisfarne, youngest, central, hyperion, quagga,\n",
      "Nearest to he: it, she, they, who, there, captured, which, ani,\n",
      "Average loss at step 12000: 3.198660\n",
      "Average loss at step 14000: 3.156254\n",
      "Average loss at step 16000: 3.179661\n",
      "Average loss at step 18000: 3.123019\n",
      "Average loss at step 20000: 2.993142\n",
      "Nearest to after: before, during, frobisher, firewood, investigator, guys, when, hibiscus,\n",
      "Nearest to state: dielectric, enclosures, subordinated, advertised, maidstone, stad, blanks, fertilizers,\n",
      "Nearest to five: six, eight, seven, four, three, nine, zero, two,\n",
      "Nearest to would: can, could, will, may, must, should, might, voiceover,\n",
      "Nearest to has: had, have, was, is, deepest, having, provides, incompletely,\n",
      "Nearest to seven: six, eight, five, three, four, nine, zero, two,\n",
      "Nearest to united: shusui, kamen, preservative, city, sib, quizzes, actus, cyclical,\n",
      "Nearest to by: for, murchison, navigating, goldbach, using, firewall, with, estas,\n",
      "Nearest to had: has, have, was, contarini, externalization, already, having, were,\n",
      "Nearest to use: argument, monoclonal, plausibility, akkadian, gustloff, digs, exemplar, entrails,\n",
      "Nearest to s: reciprocating, his, loft, mergers, almagest, karl, spurs, vorder,\n",
      "Nearest to war: codd, tutsis, leone, seventy, minimalist, sault, love, grunge,\n",
      "Nearest to that: which, this, what, ebola, pesticides, significance, blackmailed, mor,\n",
      "Nearest to as: rajput, nmt, sebastian, retracted, peacekeeping, tube, cinco, akh,\n",
      "Nearest to new: special, romano, modern, youngest, kriegsmarine, third, pockets, congreso,\n",
      "Nearest to he: she, it, they, there, captured, who, then, fabian,\n",
      "Average loss at step 22000: 3.076445\n",
      "Average loss at step 24000: 3.038070\n",
      "Average loss at step 26000: 3.005500\n",
      "Average loss at step 28000: 3.029145\n",
      "Average loss at step 30000: 3.003598\n",
      "Nearest to after: before, during, when, through, while, frobisher, flunitrazepam, bittering,\n",
      "Nearest to state: dielectric, undivided, anaphase, subordinated, enclosures, states, bixby, department,\n",
      "Nearest to five: six, four, seven, three, nine, eight, two, zero,\n",
      "Nearest to would: will, could, can, may, must, should, might, cannot,\n",
      "Nearest to has: had, have, is, was, having, deepest, incompletely, esdras,\n",
      "Nearest to seven: nine, six, four, eight, five, three, zero, two,\n",
      "Nearest to united: shusui, kamen, border, preservative, actus, cyclical, sib, federal,\n",
      "Nearest to by: glaciation, goldbach, railhead, through, counternarcotics, estas, under, minestrone,\n",
      "Nearest to had: has, have, was, having, contarini, already, were, externalization,\n",
      "Nearest to use: form, exist, because, argument, plausibility, freud, majority, ancestors,\n",
      "Nearest to s: loft, bodied, reissued, clinched, pelt, buber, gtpases, gamelan,\n",
      "Nearest to war: wars, leone, tutsis, codd, deflate, love, seventy, spherical,\n",
      "Nearest to that: which, however, this, what, pesticides, often, where, whilst,\n",
      "Nearest to as: tube, rajput, when, jit, logically, sebastian, tius, ideological,\n",
      "Nearest to new: different, special, third, youngest, particular, congreso, arbitrarily, romano,\n",
      "Nearest to he: she, it, they, there, who, gelling, captured, cipher,\n",
      "Average loss at step 32000: 2.828981\n",
      "Average loss at step 34000: 2.958859\n",
      "Average loss at step 36000: 2.946000\n",
      "Average loss at step 38000: 2.943988\n",
      "Average loss at step 40000: 2.930114\n",
      "Nearest to after: before, during, when, flunitrazepam, frobisher, while, through, if,\n",
      "Nearest to state: undivided, dielectric, marines, press, anaphase, states, barring, city,\n",
      "Nearest to five: four, six, eight, seven, three, zero, nine, two,\n",
      "Nearest to would: will, could, may, can, should, must, might, cannot,\n",
      "Nearest to has: had, have, is, was, having, deepest, provides, contains,\n",
      "Nearest to seven: eight, six, five, nine, four, three, zero, two,\n",
      "Nearest to united: shusui, border, throwing, us, preservative, bartolom, northern, same,\n",
      "Nearest to by: when, railhead, glaciation, through, during, ignosticism, kroto, rests,\n",
      "Nearest to had: has, have, having, was, contarini, were, never, already,\n",
      "Nearest to use: form, because, exist, share, ja, support, instant, manifest,\n",
      "Nearest to s: reissued, my, mergers, loft, junk, alces, bodied, palsy,\n",
      "Nearest to war: wars, tutsis, spherical, love, deflate, leone, ailing, lancet,\n",
      "Nearest to that: which, however, ebola, what, whom, utamaro, where, because,\n",
      "Nearest to as: rajput, warmest, cyprian, aladdin, diaz, sebastian, spelled, gemayel,\n",
      "Nearest to new: levellers, mcveigh, congreso, socialized, youngest, tartu, rounder, kriegsmarine,\n",
      "Nearest to he: she, it, they, there, who, we, this, impatience,\n",
      "Average loss at step 42000: 2.945716\n",
      "Average loss at step 44000: 2.958275\n",
      "Average loss at step 46000: 2.908401\n",
      "Average loss at step 48000: 2.871890\n",
      "Average loss at step 50000: 2.846737\n",
      "Nearest to after: before, during, when, through, though, without, guys, flunitrazepam,\n",
      "Nearest to state: dielectric, undivided, hodgson, turkestan, government, city, heeled, vez,\n",
      "Nearest to five: four, eight, six, seven, nine, three, zero, two,\n",
      "Nearest to would: could, will, may, should, can, might, must, cannot,\n",
      "Nearest to has: had, have, is, provides, deepest, was, makes, requires,\n",
      "Nearest to seven: eight, nine, six, four, five, three, two, zero,\n",
      "Nearest to united: border, same, nation, northern, shusui, bartolom, cyclical, federal,\n",
      "Nearest to by: without, through, using, when, against, during, olga, minestrone,\n",
      "Nearest to had: has, have, started, was, contarini, having, did, never,\n",
      "Nearest to use: cause, share, form, support, exist, verisimilitude, fade, manifest,\n",
      "Nearest to s: bodied, reciprocating, american, senegalese, fabricate, ulf, alarc, karl,\n",
      "Nearest to war: wars, tutsis, love, spherical, lancet, dividing, hedge, leone,\n",
      "Nearest to that: which, what, however, pitcher, this, where, utamaro, ebola,\n",
      "Nearest to as: olympiad, spelled, rajput, tius, freer, oxides, morte, willughby,\n",
      "Nearest to new: different, modern, special, corning, zionism, counterrevolutionary, monasteries, mcveigh,\n",
      "Nearest to he: she, it, they, there, who, finally, we, jarmusch,\n",
      "Average loss at step 52000: 2.889678\n",
      "Average loss at step 54000: 2.867123\n",
      "Average loss at step 56000: 2.857774\n",
      "Average loss at step 58000: 2.752512\n",
      "Average loss at step 60000: 2.832890\n",
      "Nearest to after: before, when, during, through, without, following, while, though,\n",
      "Nearest to state: states, konerko, turkestan, department, undivided, chickenpox, dielectric, patrimony,\n",
      "Nearest to five: seven, six, four, eight, nine, zero, three, two,\n",
      "Nearest to would: will, could, should, can, might, must, may, cannot,\n",
      "Nearest to has: had, have, is, was, provides, having, makes, receives,\n",
      "Nearest to seven: five, nine, six, four, eight, three, zero, two,\n",
      "Nearest to united: border, member, nation, quizzes, throwing, tiffany, datatypes, sib,\n",
      "Nearest to by: from, through, without, using, with, railhead, ignosticism, during,\n",
      "Nearest to had: has, have, was, having, contarini, since, were, started,\n",
      "Nearest to use: fade, form, cause, share, intention, ja, manifest, verisimilitude,\n",
      "Nearest to s: whose, isbn, his, junk, almagest, your, allegiances, perils,\n",
      "Nearest to war: wars, love, tutsis, spherical, cup, lancet, ailing, celestial,\n",
      "Nearest to that: which, however, what, whom, about, blackmailed, booked, utamaro,\n",
      "Nearest to as: rajput, logically, how, electrostatics, despised, warmest, jinshi, sloths,\n",
      "Nearest to new: monasteries, different, particular, hew, corning, modern, romano, andante,\n",
      "Nearest to he: she, they, it, there, who, we, eventually, probably,\n",
      "Average loss at step 62000: 2.834198\n",
      "Average loss at step 64000: 2.771245\n",
      "Average loss at step 66000: 2.758566\n",
      "Average loss at step 68000: 2.713265\n",
      "Average loss at step 70000: 2.789046\n",
      "Nearest to after: before, during, when, following, despite, while, through, without,\n",
      "Nearest to state: states, turkestan, konerko, chickenpox, dielectric, generation, allende, government,\n",
      "Nearest to five: seven, six, three, four, eight, nine, zero, two,\n",
      "Nearest to would: could, will, should, might, may, can, must, cannot,\n",
      "Nearest to has: had, have, is, was, makes, having, provides, receives,\n",
      "Nearest to seven: nine, five, six, eight, three, four, zero, two,\n",
      "Nearest to united: border, member, battle, nation, datatypes, preservative, tiffany, quizzes,\n",
      "Nearest to by: ignosticism, railhead, through, via, using, diabetic, when, without,\n",
      "Nearest to had: has, have, was, having, contarini, were, ever, wildstorm,\n",
      "Nearest to use: fade, form, highways, act, sesame, share, athenians, lpg,\n",
      "Nearest to s: whose, bodied, almagest, his, isbn, onion, mergers, senegalese,\n",
      "Nearest to war: wars, spherical, tutsis, love, deflate, pleads, cup, ailing,\n",
      "Nearest to that: which, however, what, where, ebola, utamaro, meier, whilst,\n",
      "Nearest to as: rajput, enumerable, tube, logically, jinshi, gentler, sloths, amalric,\n",
      "Nearest to new: different, romano, particular, specific, hymnody, congreso, monasteries, conseil,\n",
      "Nearest to he: she, it, they, there, who, we, eventually, but,\n",
      "Average loss at step 72000: 2.799686\n",
      "Average loss at step 74000: 2.644867\n",
      "Average loss at step 76000: 2.801062\n",
      "Average loss at step 78000: 2.825724\n",
      "Average loss at step 80000: 2.784853\n",
      "Nearest to after: before, during, when, without, despite, while, following, for,\n",
      "Nearest to state: states, turkestan, allende, department, city, dielectric, konerko, heeled,\n",
      "Nearest to five: six, seven, four, eight, three, nine, zero, two,\n",
      "Nearest to would: could, will, might, should, can, must, may, cannot,\n",
      "Nearest to has: had, have, was, is, having, receives, provides, contains,\n",
      "Nearest to seven: six, five, eight, nine, four, three, zero, two,\n",
      "Nearest to united: border, member, quizzes, nation, entire, battle, sacking, datatypes,\n",
      "Nearest to by: using, ignosticism, without, during, when, with, including, via,\n",
      "Nearest to had: has, have, was, having, were, contarini, ever, since,\n",
      "Nearest to use: fade, cause, form, sense, manifest, cost, bacharach, because,\n",
      "Nearest to s: whose, loft, isbn, your, onion, mam, almagest, buber,\n",
      "Nearest to war: wars, cup, love, spherical, tutsis, ailing, impulsive, pleads,\n",
      "Nearest to that: which, what, however, ebola, utamaro, this, pitcher, pesticides,\n",
      "Nearest to as: rajput, obtain, clonic, hydrodynamics, troupes, confidential, guyanese, grabs,\n",
      "Nearest to new: different, specific, congreso, monasteries, particular, romano, unimpeded, belarusians,\n",
      "Nearest to he: she, it, they, who, there, initially, we, flockhart,\n",
      "Average loss at step 82000: 2.664829\n",
      "Average loss at step 84000: 2.770829\n",
      "Average loss at step 86000: 2.737056\n",
      "Average loss at step 88000: 2.755480\n",
      "Average loss at step 90000: 2.733978\n",
      "Nearest to after: before, during, when, despite, while, without, upon, following,\n",
      "Nearest to state: states, city, national, bali, precipitating, chickenpox, detachments, turkestan,\n",
      "Nearest to five: four, six, seven, eight, three, zero, nine, two,\n",
      "Nearest to would: will, could, should, can, might, must, may, cannot,\n",
      "Nearest to has: had, have, is, was, incompletely, receives, produces, provides,\n",
      "Nearest to seven: six, eight, nine, four, five, three, zero, two,\n",
      "Nearest to united: border, quizzes, member, nation, sacking, allman, medlineplus, us,\n",
      "Nearest to by: through, via, ignosticism, using, without, after, against, railhead,\n",
      "Nearest to had: has, have, was, were, having, ever, contarini, since,\n",
      "Nearest to use: fade, support, form, cause, manifest, cost, share, because,\n",
      "Nearest to s: bodied, whose, isbn, loft, mathura, clinched, skaters, easterners,\n",
      "Nearest to war: wars, sault, ailing, tutsis, love, cup, leftist, association,\n",
      "Nearest to that: which, what, utamaro, however, this, zander, balloting, ebola,\n",
      "Nearest to as: rajput, cyprian, including, sebastian, like, sloths, willughby, tius,\n",
      "Nearest to new: modern, sub, specific, corning, different, old, mentha, monasteries,\n",
      "Nearest to he: she, it, they, there, we, finally, who, initially,\n",
      "Average loss at step 92000: 2.675885\n",
      "Average loss at step 94000: 2.722610\n",
      "Average loss at step 96000: 2.701438\n",
      "Average loss at step 98000: 2.366196\n",
      "Average loss at step 100000: 2.398448\n",
      "Nearest to after: before, despite, during, when, without, while, for, following,\n",
      "Nearest to state: states, generation, city, government, chickenpox, patrimony, monarch, national,\n",
      "Nearest to five: eight, six, seven, four, nine, three, zero, two,\n",
      "Nearest to would: will, could, might, should, can, must, may, cannot,\n",
      "Nearest to has: had, have, is, having, was, requires, produces, receives,\n",
      "Nearest to seven: eight, six, five, nine, four, three, zero, two,\n",
      "Nearest to united: border, member, quizzes, nation, sacking, allman, moscow, miskelley,\n",
      "Nearest to by: through, pomeranian, when, without, via, railhead, ignosticism, before,\n",
      "Nearest to had: has, have, having, was, were, contarini, wildstorm, kilobytes,\n",
      "Nearest to use: fade, form, cause, usage, share, need, cost, support,\n",
      "Nearest to s: whose, isbn, gurevich, pomorza, reciprocating, skaters, my, constructor,\n",
      "Nearest to war: wars, love, cup, charred, ailing, sault, lancet, future,\n",
      "Nearest to that: which, what, however, whom, ebola, instead, lets, subkey,\n",
      "Nearest to as: rajput, sloths, before, after, warmest, confidential, cyprian, styx,\n",
      "Nearest to new: corning, youngest, old, monasteries, weimar, congreso, rhone, particular,\n",
      "Nearest to he: she, they, it, there, we, who, initially, ultimately,\n"
     ]
    }
   ],
   "source": [
    "num_steps = 100001\n",
    "\n",
    "with tf.Session(graph=graph) as session:\n",
    "    tf.initialize_all_variables().run()\n",
    "    print('Initialized')\n",
    "    average_loss = 0\n",
    "    for step in range(num_steps):\n",
    "        batch_data, batch_labels = generate_batch(\n",
    "            batch_size, num_skips, skip_window)\n",
    "        feed_dict = {train_dataset : batch_data, train_labels : batch_labels}\n",
    "        _, l = session.run([optimizer, loss], feed_dict=feed_dict)\n",
    "        average_loss += l\n",
    "        if step % 2000 == 0:\n",
    "            if step > 0:\n",
    "                average_loss = average_loss / 2000\n",
    "            # The average loss is an estimate of the loss over the last 2000 batches.\n",
    "            print('Average loss at step %d: %f' % (step, average_loss))\n",
    "            average_loss = 0\n",
    "        # note that this is expensive (~20% slowdown if computed every 500 steps)\n",
    "        if step % 10000 == 0:\n",
    "            sim = similarity.eval()\n",
    "            for i in xrange(valid_size):\n",
    "                valid_word = reverse_dictionary[valid_examples[i]]\n",
    "                top_k = 8 # number of nearest neighbors\n",
    "                nearest = (-sim[i, :]).argsort()[1:top_k+1]\n",
    "                log = 'Nearest to %s:' % valid_word\n",
    "                for k in xrange(top_k):\n",
    "                    close_word = reverse_dictionary[nearest[k]]\n",
    "                    log = '%s %s,' % (log, close_word)\n",
    "                print(log)\n",
    "    final_embeddings = normalized_embeddings.eval()"
   ]
  }
 ],
 "metadata": {
  "colab": {
   "default_view": {},
   "name": "5_word2vec.ipynb",
   "provenance": [],
   "version": "0.3.2",
   "views": {}
  },
  "kernelspec": {
   "display_name": "Python 2",
   "language": "python",
   "name": "python2"
  },
  "language_info": {
   "codemirror_mode": {
    "name": "ipython",
    "version": 2
   },
   "file_extension": ".py",
   "mimetype": "text/x-python",
   "name": "python",
   "nbconvert_exporter": "python",
   "pygments_lexer": "ipython2",
   "version": "2.7.11"
  }
 },
 "nbformat": 4,
 "nbformat_minor": 0
}
